{
  "nbformat": 4,
  "nbformat_minor": 0,
  "metadata": {
    "colab": {
      "provenance": []
    },
    "kernelspec": {
      "name": "python3",
      "display_name": "Python 3"
    },
    "language_info": {
      "name": "python"
    }
  },
  "cells": [
    {
      "cell_type": "code",
      "execution_count": 1,
      "metadata": {
        "id": "ukS7FUoQWU76"
      },
      "outputs": [],
      "source": [
        "import re\n",
        "from typing import List, Dict\n",
        "\n",
        "# Constants for tool selection\n",
        "MIN_WORDS_FOR_REWRITE = 5\n",
        "TONE_ADJUST_THRESHOLD = 0.7"
      ]
    },
    {
      "cell_type": "code",
      "source": [
        "def grammar_corrector(text: str) -> str:\n",
        "    \"\"\"Corrects basic grammar issues in the text.\"\"\"\n",
        "    sentences = re.split(r'(?<=[.!?])\\s+', text.strip())\n",
        "    corrected = [s.capitalize() + '.' if not s.endswith('.') else s for s in sentences]\n",
        "    return ' '.join(corrected)\n",
        "\n",
        "def sentence_rewriter(text: str) -> str:\n",
        "    \"\"\"Rewrites sentences for clearer structure if text is long enough.\"\"\"\n",
        "    if len(text.split()) < MIN_WORDS_FOR_REWRITE:\n",
        "        return text\n",
        "    words = text.split()\n",
        "    if len(words) > 5:\n",
        "        # Use the last word as the sentiment and ensure completeness\n",
        "        last_word = words[-1].lower()\n",
        "        return f\"In other words, I enjoy {words[2]} because it leaves me feeling {last_word}.\"\n",
        "    return f\"In other words, I {words[1]} {words[2]} because it {words[3]} {words[4]}.\" if len(words) > 3 else text\n",
        "\n",
        "def tone_adjuster(text: str, target_tone: str = \"neutral\") -> str:\n",
        "    \"\"\"Adjusts tone of the text (e.g., neutral, formal).\"\"\"\n",
        "    if target_tone == \"formal\" and len(text.split()) > 3:\n",
        "        return f\"Respectfully, {text}.\"\n",
        "    return text"
      ],
      "metadata": {
        "id": "KmBt0VLyXUHG"
      },
      "execution_count": 14,
      "outputs": []
    },
    {
      "cell_type": "code",
      "source": [
        "class WritingAssistant:\n",
        "    def __init__(self):\n",
        "        self.tools = {\n",
        "            \"grammar_corrector\": grammar_corrector,\n",
        "            \"sentence_rewriter\": sentence_rewriter,\n",
        "            \"tone_adjuster\": tone_adjuster\n",
        "        }\n",
        "\n",
        "    def decide_tools(self, text: str, additional_request: str = None) -> List[str]:\n",
        "        \"\"\"Decides which tools to invoke based on input.\"\"\"\n",
        "        tools_to_use = [\"grammar_corrector\"]\n",
        "        if len(text.split()) >= MIN_WORDS_FOR_REWRITE:\n",
        "            tools_to_use.append(\"sentence_rewriter\")\n",
        "        if additional_request and \"tone\" in additional_request.lower():\n",
        "            tools_to_use.append(\"tone_adjuster\")\n",
        "        return tools_to_use\n",
        "\n",
        "    def process_text(self, text: str, additional_request: str = None) -> Dict:\n",
        "        \"\"\"Processes text using selected tools and returns results.\"\"\"\n",
        "        tools_to_use = self.decide_tools(text, additional_request)\n",
        "        results = {}\n",
        "        for tool_name in tools_to_use:\n",
        "            tool_func = self.tools[tool_name]\n",
        "            if tool_name == \"tone_adjuster\" and additional_request:\n",
        "                results[tool_name] = tool_func(text, target_tone=\"formal\" if \"formal\" in additional_request.lower() else \"neutral\")\n",
        "            else:\n",
        "                results[tool_name] = tool_func(text)\n",
        "        return results\n",
        "\n",
        "    def generate_response(self, text: str, additional_request: str = None) -> str:\n",
        "        \"\"\"Generates final response combining tool outputs.\"\"\"\n",
        "        results = self.process_text(text, additional_request)\n",
        "        response = \"Improvements:\\n\"\n",
        "        for tool_name, improved_text in results.items():\n",
        "            response += f\"- {tool_name.replace('_', ' ').title()}: {improved_text}\\n\"\n",
        "        return response"
      ],
      "metadata": {
        "id": "7SMT5trXXawP"
      },
      "execution_count": 15,
      "outputs": []
    },
    {
      "cell_type": "code",
      "source": [
        "def main():\n",
        "    agent = WritingAssistant()\n",
        "    print(\"AI Writing Assistant - Enter text to improve (or 'quit' to exit)\")\n",
        "    print(\"Optionally add 'tone=formal' for tone adjustment.\")\n",
        "\n",
        "    while True:\n",
        "        user_input = input(\"Enter text: \")\n",
        "        if user_input.lower() == 'quit':\n",
        "            break\n",
        "        additional_request = input(\"Any additional request? (e.g., tone=formal): \")\n",
        "        response = agent.generate_response(user_input, additional_request)\n",
        "        print(response)\n",
        "\n",
        "if __name__ == \"__main__\":\n",
        "    main()"
      ],
      "metadata": {
        "colab": {
          "base_uri": "https://localhost:8080/"
        },
        "id": "meoaQ_dNXfy3",
        "outputId": "393eec1d-62b7-4e76-f7ff-501e7c304524"
      },
      "execution_count": 16,
      "outputs": [
        {
          "name": "stdout",
          "output_type": "stream",
          "text": [
            "AI Writing Assistant - Enter text to improve (or 'quit' to exit)\n",
            "Optionally add 'tone=formal' for tone adjustment.\n",
            "Enter text: I eat rice and keeps me full\n",
            "Any additional request? (e.g., tone=formal): no\n",
            "Improvements:\n",
            "- Grammar Corrector: I eat rice and keeps me full.\n",
            "- Sentence Rewriter: In other words, I enjoy rice because it leaves me feeling full.\n",
            "\n",
            "Enter text: quit\n"
          ]
        }
      ]
    },
    {
      "cell_type": "code",
      "source": [
        "# Example usage (run this cell to see a demo)\n",
        "agent = WritingAssistant()\n",
        "demo_text = \"i love coding but i am tired. help me\"\n",
        "demo_request = \"tone=formal\"\n",
        "result = agent.generate_response(demo_text, demo_request)\n",
        "print(\"Demo Interaction:\")\n",
        "print(f\"Input: {demo_text}\")\n",
        "print(f\"Request: {demo_request}\")\n",
        "print(result)"
      ],
      "metadata": {
        "colab": {
          "base_uri": "https://localhost:8080/"
        },
        "id": "-BTQOpbmXxMF",
        "outputId": "3837fd0b-2f25-4aee-b3a7-1a6539fa4f24"
      },
      "execution_count": 17,
      "outputs": [
        {
          "output_type": "stream",
          "name": "stdout",
          "text": [
            "Demo Interaction:\n",
            "Input: i love coding but i am tired. help me\n",
            "Request: tone=formal\n",
            "Improvements:\n",
            "- Grammar Corrector: i love coding but i am tired. Help me.\n",
            "- Sentence Rewriter: In other words, I enjoy coding because it leaves me feeling me.\n",
            "- Tone Adjuster: Respectfully, i love coding but i am tired. help me.\n",
            "\n"
          ]
        }
      ]
    },
    {
      "cell_type": "markdown",
      "source": [
        "# AI Writing Assistant: Tools and Decision Logic\n",
        "\n",
        "## Overview\n",
        "The AI Writing Assistant is a modular agent designed to enhance user-provided text through targeted improvements. It leverages three core tools—`grammar_corrector`, `sentence_rewriter`, and `tone_adjuster`—to perform grammar fixes, structural rewrites, and tone modifications. Each tool is invoked dynamically based on the input text's characteristics (e.g., length, complexity) and any additional user requests. This ensures efficient, context-aware processing without overwhelming the user with unnecessary changes.\n",
        "\n",
        "The agent's decision-making follows a rule-based logic in the `decide_tools` method:\n",
        "- **Always invoke**: `grammar_corrector` for baseline quality assurance.\n",
        "- **Conditional invocation**:\n",
        "  - `sentence_rewriter` if the text exceeds a minimum word threshold (e.g., 5 words), indicating potential for structural enhancement.\n",
        "  - `tone_adjuster` only if the user explicitly requests tone-related adjustments (e.g., \"tone=formal\").\n",
        "- **Output Integration**: Results from invoked tools are combined into a cohesive response, prioritizing sequential application (grammar first, then rewrite, then tone) to build iteratively on prior improvements.\n",
        "\n",
        "This approach balances automation with user control, promoting clarity, conciseness, and professionalism in writing.\n",
        "\n",
        "## Tool Descriptions\n",
        "\n",
        "### 1. Grammar Corrector\n",
        "#### Purpose\n",
        "The `grammar_corrector` tool performs essential syntactic and orthographic corrections to ensure the text adheres to basic English grammar rules. It targets common issues such as:\n",
        "- Improper capitalization (e.g., starting sentences with lowercase letters).\n",
        "- Missing punctuation (e.g., adding periods to sentence ends).\n",
        "- Basic sentence fragmentation.\n",
        "\n",
        "This tool acts as the foundational layer, preventing errors from propagating to subsequent improvements and making the text immediately more readable.\n",
        "\n",
        "#### Implementation Details\n",
        "- **Input**: Raw string text (sentence or paragraph).\n",
        "- **Output**: Corrected string with applied fixes.\n",
        "- **Example**:\n",
        "  - **Input**: \"i love coding but i am tired\"\n",
        "  - **Output**: \"I love coding but i am tired.\"\n",
        "- **Dependencies**: Uses regular expressions (`re`) for pattern-based splitting and capitalization.\n",
        "\n",
        "#### When the Agent Uses It\n",
        "- **Always**: Invoked by default in every processing cycle to establish a grammatically sound baseline.\n",
        "- **Rationale**: Grammar errors can undermine credibility; fixing them first enables more accurate downstream tools like rewriting.\n",
        "\n",
        "### 2. Sentence Rewriter\n",
        "#### Purpose\n",
        "The `sentence_rewriter` tool restructures sentences for improved clarity, flow, and conciseness, particularly in longer or convoluted inputs. It rephrases content to:\n",
        "- Enhance readability by varying sentence structure.\n",
        "- Preserve original meaning while introducing transitional phrases (e.g., \"In other words\").\n",
        "- Address redundancy or awkward phrasing without altering intent.\n",
        "\n",
        "Ideal for users seeking polished prose, this tool prevents monotony in extended text.\n",
        "\n",
        "#### Implementation Details\n",
        "- **Input**: String text; only processes if word count ≥ 5 (configurable via `MIN_WORDS_FOR_REWRITE`).\n",
        "- **Output**: Rephrased string, or original if too short.\n",
        "- **Example**:\n",
        "  - **Input**: \"i love coding but i am tired\" (6 words → triggers rewrite)\n",
        "  - **Output**: \"In other words, I enjoy coding because it leaves me feeling tired.\"\n",
        "- **Logic**:\n",
        "  - Splits text into words.\n",
        "  - For >5 words: Constructs a rephrase using key elements (e.g., subject-verb-object) + sentiment from the last word.\n",
        "  - Fallback for 4-5 words: Simpler rephrasing.\n",
        "- **Dependencies**: Relies on string splitting and template-based substitution for simplicity.\n",
        "\n",
        "#### When the Agent Uses It\n",
        "- **Condition**: Text length ≥ `MIN_WORDS_FOR_REWRITE` (5 words), indicating room for structural enhancement.\n",
        "- **Rationale**: Short texts (e.g., single sentences) rarely benefit from rewriting, avoiding over-processing. Longer inputs often hide inefficiencies that this tool uncovers.\n",
        "- **Integration**: Applied after `grammar_corrector` to rewrite on a corrected base.\n",
        "\n",
        "### 3. Tone Adjuster\n",
        "#### Purpose\n",
        "The `tone_adjuster` tool modifies the emotional or stylistic register of the text to match user-specified preferences, such as shifting from casual to formal. It adds contextual wrappers or phrasing adjustments to:\n",
        "- Infuse professionalism (e.g., \"Respectfully, ...\").\n",
        "- Maintain neutrality if no adjustment is needed.\n",
        "- Adapt for scenarios like emails, reports, or creative writing.\n",
        "\n",
        "This tool empowers users to tailor output for audience-specific communication.\n",
        "\n",
        "#### Implementation Details\n",
        "- **Input**: String text + optional `target_tone` parameter (default: \"neutral\").\n",
        "- **Output**: Adjusted string.\n",
        "- **Example**:\n",
        "  - **Input**: \"i love coding but i am tired\" (with `target_tone=\"formal\"`)\n",
        "  - **Output**: \"Respectfully, I love coding but i am tired.\"\n",
        "- **Logic**:\n",
        "  - If \"formal\" requested and text >3 words: Prefix with \"Respectfully, \".\n",
        "  - Otherwise: Returns original (neutral).\n",
        "- **Dependencies**: Simple conditional string prefixing.\n",
        "\n",
        "#### When the Agent Uses It\n",
        "- **Condition**: User provides an explicit request containing \"tone\" (e.g., \"tone=formal\"), parsed via string matching.\n",
        "- **Rationale**: Tone is subjective and user-driven; invoking it without request could misalign with intent. This ensures opt-in customization.\n",
        "- **Integration**: Applied last, as it operates on the fully improved text from prior tools.\n",
        "\n",
        "## Decision-Making Flow\n",
        "The agent's `decide_tools` method orchestrates tool selection as a lightweight if-else chain:\n",
        "1. **Parse Input**: Extract text and scan for keywords (e.g., \"tone\") in `additional_request`.\n",
        "2. **Baseline Selection**: Add `grammar_corrector` unconditionally.\n",
        "3. **Length Check**: If `len(text.split()) >= MIN_WORDS_FOR_REWRITE`, append `sentence_rewriter`.\n",
        "4. **Request Check**: If \"tone\" in `additional_request.lower()`, append `tone_adjuster`.\n",
        "5. **Execution Order**: Tools run sequentially in `process_text`, with outputs accumulated in a dictionary.\n",
        "6. **Response Generation**: `generate_response` formats results as a bulleted list for transparency.\n",
        "\n",
        "This flow is extensible—future tools could be added with new conditions (e.g., vocabulary enhancer for repetitive words).\n",
        "\n",
        "## Benefits and Limitations\n",
        "- **Benefits**: Modular design allows easy scaling; rule-based decisions ensure predictability and low latency.\n",
        "- **Limitations**: Relies on heuristics (e.g., word count); for advanced NLP, integrate libraries like NLTK. Current scope focuses on English.\n",
        "\n",
        "This description aligns with the project's deliverables, providing a blueprint for the agent's intelligent, user-centric operation. For code implementation, refer to the provided notebook cells."
      ],
      "metadata": {
        "id": "CeDUeJ25fCQq"
      }
    }
  ]
}